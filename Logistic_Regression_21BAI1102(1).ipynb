{
  "cells": [
    {
      "cell_type": "markdown",
      "metadata": {
        "id": "fb9eTyUoUOfC"
      },
      "source": [
        "Anubroto Ghose (21BAI1102)"
      ]
    },
    {
      "cell_type": "markdown",
      "metadata": {
        "id": "pG7yGv3tUS1i"
      },
      "source": [
        "https://colab.research.google.com/drive/16hcbi9ntrNT3DNjtBwuP2G7mP5S5XJjk?usp=sharing"
      ]
    },
    {
      "cell_type": "code",
      "execution_count": null,
      "metadata": {
        "colab": {
          "base_uri": "https://localhost:8080/"
        },
        "id": "KkDgoropSULg",
        "outputId": "0bf8bfb2-47bb-4eed-b433-a4e1abe95ed8"
      },
      "outputs": [
        {
          "name": "stdout",
          "output_type": "stream",
          "text": [
            "Drive already mounted at /content/gdrive; to attempt to forcibly remount, call drive.mount(\"/content/gdrive\", force_remount=True).\n"
          ]
        }
      ],
      "source": [
        "import numpy as np\n",
        "import matplotlib.pyplot as plt\n",
        "import pandas as pd\n",
        "from google.colab import drive\n",
        "drive.mount('/content/gdrive')"
      ]
    },
    {
      "cell_type": "markdown",
      "metadata": {
        "id": "SuWjgZB0UhGa"
      },
      "source": [
        "Importing Email Training Set"
      ]
    },
    {
      "cell_type": "code",
      "execution_count": null,
      "metadata": {
        "colab": {
          "base_uri": "https://localhost:8080/",
          "height": 206
        },
        "id": "AoPz4EicScdp",
        "outputId": "0aff274e-49fb-4c7c-e4f4-c453c34fe37f"
      },
      "outputs": [
        {
          "data": {
            "text/html": [
              "\n",
              "  <div id=\"df-cf47d8a3-212a-4e47-bb54-949914f4486f\">\n",
              "    <div class=\"colab-df-container\">\n",
              "      <div>\n",
              "<style scoped>\n",
              "    .dataframe tbody tr th:only-of-type {\n",
              "        vertical-align: middle;\n",
              "    }\n",
              "\n",
              "    .dataframe tbody tr th {\n",
              "        vertical-align: top;\n",
              "    }\n",
              "\n",
              "    .dataframe thead th {\n",
              "        text-align: right;\n",
              "    }\n",
              "</style>\n",
              "<table border=\"1\" class=\"dataframe\">\n",
              "  <thead>\n",
              "    <tr style=\"text-align: right;\">\n",
              "      <th></th>\n",
              "      <th>x0</th>\n",
              "      <th>x1</th>\n",
              "      <th>x2</th>\n",
              "      <th>x3</th>\n",
              "      <th>x4</th>\n",
              "      <th>x5</th>\n",
              "      <th>class</th>\n",
              "    </tr>\n",
              "  </thead>\n",
              "  <tbody>\n",
              "    <tr>\n",
              "      <th>0</th>\n",
              "      <td>1</td>\n",
              "      <td>1</td>\n",
              "      <td>1</td>\n",
              "      <td>0</td>\n",
              "      <td>1</td>\n",
              "      <td>1</td>\n",
              "      <td>1</td>\n",
              "    </tr>\n",
              "    <tr>\n",
              "      <th>1</th>\n",
              "      <td>1</td>\n",
              "      <td>0</td>\n",
              "      <td>0</td>\n",
              "      <td>1</td>\n",
              "      <td>1</td>\n",
              "      <td>0</td>\n",
              "      <td>0</td>\n",
              "    </tr>\n",
              "    <tr>\n",
              "      <th>2</th>\n",
              "      <td>1</td>\n",
              "      <td>0</td>\n",
              "      <td>1</td>\n",
              "      <td>1</td>\n",
              "      <td>0</td>\n",
              "      <td>0</td>\n",
              "      <td>1</td>\n",
              "    </tr>\n",
              "    <tr>\n",
              "      <th>3</th>\n",
              "      <td>1</td>\n",
              "      <td>1</td>\n",
              "      <td>0</td>\n",
              "      <td>0</td>\n",
              "      <td>1</td>\n",
              "      <td>0</td>\n",
              "      <td>0</td>\n",
              "    </tr>\n",
              "    <tr>\n",
              "      <th>4</th>\n",
              "      <td>1</td>\n",
              "      <td>1</td>\n",
              "      <td>0</td>\n",
              "      <td>1</td>\n",
              "      <td>0</td>\n",
              "      <td>1</td>\n",
              "      <td>1</td>\n",
              "    </tr>\n",
              "  </tbody>\n",
              "</table>\n",
              "</div>\n",
              "      <button class=\"colab-df-convert\" onclick=\"convertToInteractive('df-cf47d8a3-212a-4e47-bb54-949914f4486f')\"\n",
              "              title=\"Convert this dataframe to an interactive table.\"\n",
              "              style=\"display:none;\">\n",
              "        \n",
              "  <svg xmlns=\"http://www.w3.org/2000/svg\" height=\"24px\"viewBox=\"0 0 24 24\"\n",
              "       width=\"24px\">\n",
              "    <path d=\"M0 0h24v24H0V0z\" fill=\"none\"/>\n",
              "    <path d=\"M18.56 5.44l.94 2.06.94-2.06 2.06-.94-2.06-.94-.94-2.06-.94 2.06-2.06.94zm-11 1L8.5 8.5l.94-2.06 2.06-.94-2.06-.94L8.5 2.5l-.94 2.06-2.06.94zm10 10l.94 2.06.94-2.06 2.06-.94-2.06-.94-.94-2.06-.94 2.06-2.06.94z\"/><path d=\"M17.41 7.96l-1.37-1.37c-.4-.4-.92-.59-1.43-.59-.52 0-1.04.2-1.43.59L10.3 9.45l-7.72 7.72c-.78.78-.78 2.05 0 2.83L4 21.41c.39.39.9.59 1.41.59.51 0 1.02-.2 1.41-.59l7.78-7.78 2.81-2.81c.8-.78.8-2.07 0-2.86zM5.41 20L4 18.59l7.72-7.72 1.47 1.35L5.41 20z\"/>\n",
              "  </svg>\n",
              "      </button>\n",
              "      \n",
              "  <style>\n",
              "    .colab-df-container {\n",
              "      display:flex;\n",
              "      flex-wrap:wrap;\n",
              "      gap: 12px;\n",
              "    }\n",
              "\n",
              "    .colab-df-convert {\n",
              "      background-color: #E8F0FE;\n",
              "      border: none;\n",
              "      border-radius: 50%;\n",
              "      cursor: pointer;\n",
              "      display: none;\n",
              "      fill: #1967D2;\n",
              "      height: 32px;\n",
              "      padding: 0 0 0 0;\n",
              "      width: 32px;\n",
              "    }\n",
              "\n",
              "    .colab-df-convert:hover {\n",
              "      background-color: #E2EBFA;\n",
              "      box-shadow: 0px 1px 2px rgba(60, 64, 67, 0.3), 0px 1px 3px 1px rgba(60, 64, 67, 0.15);\n",
              "      fill: #174EA6;\n",
              "    }\n",
              "\n",
              "    [theme=dark] .colab-df-convert {\n",
              "      background-color: #3B4455;\n",
              "      fill: #D2E3FC;\n",
              "    }\n",
              "\n",
              "    [theme=dark] .colab-df-convert:hover {\n",
              "      background-color: #434B5C;\n",
              "      box-shadow: 0px 1px 3px 1px rgba(0, 0, 0, 0.15);\n",
              "      filter: drop-shadow(0px 1px 2px rgba(0, 0, 0, 0.3));\n",
              "      fill: #FFFFFF;\n",
              "    }\n",
              "  </style>\n",
              "\n",
              "      <script>\n",
              "        const buttonEl =\n",
              "          document.querySelector('#df-cf47d8a3-212a-4e47-bb54-949914f4486f button.colab-df-convert');\n",
              "        buttonEl.style.display =\n",
              "          google.colab.kernel.accessAllowed ? 'block' : 'none';\n",
              "\n",
              "        async function convertToInteractive(key) {\n",
              "          const element = document.querySelector('#df-cf47d8a3-212a-4e47-bb54-949914f4486f');\n",
              "          const dataTable =\n",
              "            await google.colab.kernel.invokeFunction('convertToInteractive',\n",
              "                                                     [key], {});\n",
              "          if (!dataTable) return;\n",
              "\n",
              "          const docLinkHtml = 'Like what you see? Visit the ' +\n",
              "            '<a target=\"_blank\" href=https://colab.research.google.com/notebooks/data_table.ipynb>data table notebook</a>'\n",
              "            + ' to learn more about interactive tables.';\n",
              "          element.innerHTML = '';\n",
              "          dataTable['output_type'] = 'display_data';\n",
              "          await google.colab.output.renderOutput(dataTable, element);\n",
              "          const docLink = document.createElement('div');\n",
              "          docLink.innerHTML = docLinkHtml;\n",
              "          element.appendChild(docLink);\n",
              "        }\n",
              "      </script>\n",
              "    </div>\n",
              "  </div>\n",
              "  "
            ],
            "text/plain": [
              "   x0  x1  x2  x3  x4  x5  class\n",
              "0   1   1   1   0   1   1      1\n",
              "1   1   0   0   1   1   0      0\n",
              "2   1   0   1   1   0   0      1\n",
              "3   1   1   0   0   1   0      0\n",
              "4   1   1   0   1   0   1      1"
            ]
          },
          "execution_count": 47,
          "metadata": {},
          "output_type": "execute_result"
        }
      ],
      "source": [
        "df = pd.read_csv('/content/gdrive/MyDrive/email.csv')\n",
        "df.head()"
      ]
    },
    {
      "cell_type": "code",
      "execution_count": null,
      "metadata": {
        "colab": {
          "base_uri": "https://localhost:8080/"
        },
        "id": "H72OsFKXSdEa",
        "outputId": "4b3bf6e0-f21e-4f96-96f2-6640cff4794a"
      },
      "outputs": [
        {
          "name": "stdout",
          "output_type": "stream",
          "text": [
            "18\n",
            "18\n"
          ]
        }
      ],
      "source": [
        "#xx = list(df['x0']),list(df['x1']), list(df['x2']),list(df['x3']),list(df['x4']),list(df['x5'])\n",
        "xx = list(df['x1']), list(df['x2']),list(df['x3']),list(df['x4']),list(df['x5'])\n",
        "yy = list(df['class'])\n",
        "n=df.shape[0]\n",
        "m=int(n)\n",
        "print(m)\n",
        "print(n)\n",
        "y_train = np.array(yy[:m])\n",
        "xi = [ xx[0][:m] , xx[1][:m] , xx[2][:m] , xx[3][:m] , xx[4][:m]]\n",
        "x_train=np.stack((xi[0],xi[1],xi[2],xi[3],xi[4]),axis=1)\n",
        "# xt =[ xx[0][m:] , xx[1][m:] , xx[2][m:] , xx[3][m:], xx[4][m:],xx[5][m:]]\n",
        "# x_test = np.stack((xt[0],xt[1],xt[2],xt[3],xt[4],xt[5]),axis=1)\n",
        "# y_test = np.array(yy[m:])\n",
        "#print(y_train)"
      ]
    },
    {
      "cell_type": "markdown",
      "metadata": {
        "id": "Oy8zbJd4VFzs"
      },
      "source": [
        "Sigmoid Function"
      ]
    },
    {
      "cell_type": "code",
      "execution_count": null,
      "metadata": {
        "id": "Wrd8w2StSgTp"
      },
      "outputs": [],
      "source": [
        "def sigmoid(z):\n",
        "    return 1/(1 + np.exp(-z))"
      ]
    },
    {
      "cell_type": "markdown",
      "metadata": {
        "id": "zjJsCNhYVNJh"
      },
      "source": [
        "Model for Logistic Regression"
      ]
    },
    {
      "cell_type": "code",
      "execution_count": null,
      "metadata": {
        "id": "FHr5BHa2Si4U"
      },
      "outputs": [],
      "source": [
        "def model(X, Y, learning_rate, epoch,n):\n",
        "    W = []\n",
        "    for i in range(n):\n",
        "        W.append(0)\n",
        "    B = 0\n",
        "    \n",
        "    cost_list = []\n",
        "    print(W)\n",
        "    for i in range(epoch):\n",
        "        for j in range(len(X)):\n",
        "            Z = np.dot(W, X[j]) + B\n",
        "            A = sigmoid(Z)\n",
        "        \n",
        "            # cost function\n",
        "            cost = -(1/m)*np.sum( Y[j]*np.log(A) + (1-Y[j])*np.log(1-A))\n",
        "        \n",
        "            # Gradient Descent\n",
        "            dW = (1/m)*np.dot(A-Y[j], X[j].T)\n",
        "            dB = (1/m)*np.sum(A - Y[0])\n",
        "        \n",
        "            W = W - learning_rate*dW.T\n",
        "            B = B - learning_rate*dB\n",
        "        \n",
        "            # Keeping track of our cost function value\n",
        "            cost_list.append(cost)\n",
        "        \n",
        "        if(i%(epoch/10) == 0):\n",
        "            print(\"cost after \", i, \"iteration is : \", cost)\n",
        "        \n",
        "    return W, B, cost_list"
      ]
    },
    {
      "cell_type": "markdown",
      "metadata": {
        "id": "QpJgW0l5VO38"
      },
      "source": [
        "To classify spam or ham"
      ]
    },
    {
      "cell_type": "code",
      "execution_count": null,
      "metadata": {
        "id": "AUCrEjNPSkt8"
      },
      "outputs": [],
      "source": [
        "def output(y):\n",
        "    x = []\n",
        "    for i in y:\n",
        "        if i==1:\n",
        "            x.append('spam')\n",
        "        else:\n",
        "            x.append('ham')\n",
        "    return x"
      ]
    },
    {
      "cell_type": "markdown",
      "metadata": {
        "id": "E6yC5n_WVwsy"
      },
      "source": [
        "Give predicted Output based on model"
      ]
    },
    {
      "cell_type": "code",
      "execution_count": null,
      "metadata": {
        "id": "v3pJOPNBSmnr"
      },
      "outputs": [],
      "source": [
        "def predict(W,b,x):\n",
        "    y_output = []\n",
        "    y =0\n",
        "    for i in range(len(x)):\n",
        "        y = np.dot(x[i],W) + b\n",
        "        a = sigmoid(y)\n",
        "        if(a<0.5):\n",
        "            y_output.append(0)\n",
        "        else:\n",
        "            y_output.append(1)\n",
        "    return y_output\n",
        "    # y = np.dot(x[0],W) + b\n",
        "    # a = sigmoid(y)\n",
        "    # return a"
      ]
    },
    {
      "cell_type": "markdown",
      "metadata": {
        "id": "nfD8SGaSVyfl"
      },
      "source": [
        "Print the Parameters"
      ]
    },
    {
      "cell_type": "code",
      "execution_count": null,
      "metadata": {
        "colab": {
          "base_uri": "https://localhost:8080/"
        },
        "id": "gbwpEXkoSp2K",
        "outputId": "3a185365-108f-497e-e286-c0a4135a47ba"
      },
      "outputs": [
        {
          "name": "stdout",
          "output_type": "stream",
          "text": [
            "[0, 0, 0, 0, 0]\n",
            "cost after  0 iteration is :  0.03851897553386897\n",
            "cost after  10000 iteration is :  0.020545006588949262\n",
            "cost after  20000 iteration is :  0.008108910071421872\n",
            "cost after  30000 iteration is :  0.0033597341676994\n",
            "cost after  40000 iteration is :  0.0013453377892998829\n",
            "cost after  50000 iteration is :  0.0005162891694521268\n",
            "cost after  60000 iteration is :  0.00019262015381187554\n",
            "cost after  70000 iteration is :  7.087039231808075e-05\n",
            "cost after  80000 iteration is :  2.5934919347918133e-05\n",
            "cost after  90000 iteration is :  9.477214739193662e-06\n"
          ]
        },
        {
          "name": "stderr",
          "output_type": "stream",
          "text": [
            "IOPub data rate exceeded.\n",
            "The notebook server will temporarily stop sending output\n",
            "to the client in order to avoid crashing it.\n",
            "To change this limit, set the config variable\n",
            "`--NotebookApp.iopub_data_rate_limit`.\n",
            "\n",
            "Current values:\n",
            "NotebookApp.iopub_data_rate_limit=1000000.0 (bytes/sec)\n",
            "NotebookApp.rate_limit_window=3.0 (secs)\n",
            "\n"
          ]
        }
      ],
      "source": [
        "epoch = 100000\n",
        "W, B, cost_list = model(x_train,y_train,0.001,epoch,5)\n",
        "print('The parameters are ',W,B)\n",
        "print(\"The cost function values = \",end = ' ')\n",
        "print(cost_list)"
      ]
    },
    {
      "cell_type": "markdown",
      "metadata": {
        "id": "LnkLwp9fV19r"
      },
      "source": [
        "Plot the Cost Function values with respect to epoch values"
      ]
    },
    {
      "cell_type": "code",
      "execution_count": null,
      "metadata": {
        "colab": {
          "base_uri": "https://localhost:8080/",
          "height": 451
        },
        "id": "J6Q3ZXvdSqWi",
        "outputId": "4065650a-40f0-497b-f587-b97ffd0801af"
      },
      "outputs": [
        {
          "data": {
            "image/png": "[encoded data removed]",
            "text/plain": [
              "<Figure size 640x480 with 1 Axes>"
            ]
          },
          "metadata": {},
          "output_type": "display_data"
        }
      ],
      "source": [
        "x1 = []\n",
        "y1 = []\n",
        "for i in range(len(cost_list)):\n",
        "    if(i%(epoch/10) == 0):\n",
        "        x1.append(i)\n",
        "        y1.append(cost_list[i])\n",
        "plt.scatter(x1,y1)\n",
        "plt.xlabel('Epoch Values')\n",
        "plt.ylabel('Cost Function')\n",
        "plt.show()"
      ]
    },
    {
      "cell_type": "markdown",
      "metadata": {
        "id": "qn6yOIE2V7U1"
      },
      "source": [
        "Importing email Testing Dataset"
      ]
    },
    {
      "cell_type": "code",
      "execution_count": null,
      "metadata": {
        "colab": {
          "base_uri": "https://localhost:8080/"
        },
        "id": "pXIWzPOdSr2L",
        "outputId": "d27e7e79-9807-499d-bfdc-2e1446c51214"
      },
      "outputs": [
        {
          "name": "stdout",
          "output_type": "stream",
          "text": [
            "8\n",
            "8\n"
          ]
        },
        {
          "data": {
            "text/plain": [
              "array([1, 1, 1, 1, 0, 0, 0, 0])"
            ]
          },
          "execution_count": 55,
          "metadata": {},
          "output_type": "execute_result"
        }
      ],
      "source": [
        "df = pd.read_csv('/content/gdrive/MyDrive/email_test.csv')\n",
        "xx = list(df['x1']), list(df['x2']),list(df['x3']),list(df['x4']),list(df['x5'])\n",
        "yy = list(df['class'])\n",
        "n=df.shape[0]\n",
        "m=int(n)\n",
        "print(m)\n",
        "print(n)\n",
        "y_test = np.array(yy[:m])\n",
        "xi = [ xx[0][:m] , xx[1][:m] , xx[2][:m] , xx[3][:m] , xx[4][:m]]\n",
        "x_test=np.stack((xi[0],xi[1],xi[2],xi[3],xi[4]),axis=1)\n",
        "y_test"
      ]
    },
    {
      "cell_type": "markdown",
      "metadata": {
        "id": "g8Xf4aIjWAUD"
      },
      "source": [
        "Predicting the output based on training dataset"
      ]
    },
    {
      "cell_type": "code",
      "execution_count": null,
      "metadata": {
        "colab": {
          "base_uri": "https://localhost:8080/"
        },
        "id": "3TcubkffStUQ",
        "outputId": "61a4a1f5-e837-419b-d5c4-ed182dbac8dc"
      },
      "outputs": [
        {
          "name": "stdout",
          "output_type": "stream",
          "text": [
            "[1, 1, 1, 1, 1, 1, 1, 1]\n",
            "The predicted output =  ['spam', 'spam', 'spam', 'spam', 'spam', 'spam', 'spam', 'spam']\n",
            "The actual output =  ['spam', 'spam', 'spam', 'spam', 'ham', 'ham', 'ham', 'ham']\n",
            "Accuracy score =  50.0 %\n"
          ]
        }
      ],
      "source": [
        "y_output = predict(W,B,x_test)\n",
        "print(y_output)\n",
        "print('The predicted output = ',output(y_output))\n",
        "print('The actual output = ',output(y_test))\n",
        "sum = 0.0\n",
        "for i in range(len(y_output)):\n",
        "    if y_output[i] == y_test[i]:\n",
        "        sum+=1.0\n",
        "sum = sum/len(y_output)\n",
        "sum*=100\n",
        "print(\"Accuracy score = \",sum,\"%\")"
      ]
    },
    {
      "cell_type": "markdown",
      "metadata": {
        "id": "QaX8ufqjWI41"
      },
      "source": [
        "Preprocessing the input dataset to be used with Scikit/Sklearn"
      ]
    },
    {
      "cell_type": "code",
      "execution_count": null,
      "metadata": {
        "colab": {
          "base_uri": "https://localhost:8080/",
          "height": 582
        },
        "id": "8dI5Bt-5Svo8",
        "outputId": "4c5826f2-f259-419d-e315-96da88c0ac8d"
      },
      "outputs": [
        {
          "data": {
            "text/html": [
              "\n",
              "  <div id=\"df-f514b02f-8f69-4efd-b939-77ee8c6ec6e0\">\n",
              "    <div class=\"colab-df-container\">\n",
              "      <div>\n",
              "<style scoped>\n",
              "    .dataframe tbody tr th:only-of-type {\n",
              "        vertical-align: middle;\n",
              "    }\n",
              "\n",
              "    .dataframe tbody tr th {\n",
              "        vertical-align: top;\n",
              "    }\n",
              "\n",
              "    .dataframe thead th {\n",
              "        text-align: right;\n",
              "    }\n",
              "</style>\n",
              "<table border=\"1\" class=\"dataframe\">\n",
              "  <thead>\n",
              "    <tr style=\"text-align: right;\">\n",
              "      <th></th>\n",
              "      <th>x1</th>\n",
              "      <th>x2</th>\n",
              "      <th>x3</th>\n",
              "      <th>x4</th>\n",
              "      <th>x5</th>\n",
              "    </tr>\n",
              "  </thead>\n",
              "  <tbody>\n",
              "    <tr>\n",
              "      <th>16</th>\n",
              "      <td>1</td>\n",
              "      <td>0</td>\n",
              "      <td>1</td>\n",
              "      <td>0</td>\n",
              "      <td>1</td>\n",
              "    </tr>\n",
              "    <tr>\n",
              "      <th>3</th>\n",
              "      <td>1</td>\n",
              "      <td>0</td>\n",
              "      <td>0</td>\n",
              "      <td>1</td>\n",
              "      <td>0</td>\n",
              "    </tr>\n",
              "    <tr>\n",
              "      <th>10</th>\n",
              "      <td>1</td>\n",
              "      <td>0</td>\n",
              "      <td>1</td>\n",
              "      <td>0</td>\n",
              "      <td>1</td>\n",
              "    </tr>\n",
              "    <tr>\n",
              "      <th>2</th>\n",
              "      <td>0</td>\n",
              "      <td>1</td>\n",
              "      <td>1</td>\n",
              "      <td>0</td>\n",
              "      <td>0</td>\n",
              "    </tr>\n",
              "    <tr>\n",
              "      <th>7</th>\n",
              "      <td>0</td>\n",
              "      <td>0</td>\n",
              "      <td>1</td>\n",
              "      <td>1</td>\n",
              "      <td>0</td>\n",
              "    </tr>\n",
              "    <tr>\n",
              "      <th>6</th>\n",
              "      <td>1</td>\n",
              "      <td>1</td>\n",
              "      <td>0</td>\n",
              "      <td>1</td>\n",
              "      <td>1</td>\n",
              "    </tr>\n",
              "    <tr>\n",
              "      <th>8</th>\n",
              "      <td>0</td>\n",
              "      <td>1</td>\n",
              "      <td>1</td>\n",
              "      <td>0</td>\n",
              "      <td>0</td>\n",
              "    </tr>\n",
              "    <tr>\n",
              "      <th>0</th>\n",
              "      <td>1</td>\n",
              "      <td>1</td>\n",
              "      <td>0</td>\n",
              "      <td>1</td>\n",
              "      <td>1</td>\n",
              "    </tr>\n",
              "    <tr>\n",
              "      <th>15</th>\n",
              "      <td>1</td>\n",
              "      <td>0</td>\n",
              "      <td>0</td>\n",
              "      <td>1</td>\n",
              "      <td>0</td>\n",
              "    </tr>\n",
              "    <tr>\n",
              "      <th>12</th>\n",
              "      <td>1</td>\n",
              "      <td>1</td>\n",
              "      <td>0</td>\n",
              "      <td>1</td>\n",
              "      <td>1</td>\n",
              "    </tr>\n",
              "    <tr>\n",
              "      <th>4</th>\n",
              "      <td>1</td>\n",
              "      <td>0</td>\n",
              "      <td>1</td>\n",
              "      <td>0</td>\n",
              "      <td>1</td>\n",
              "    </tr>\n",
              "    <tr>\n",
              "      <th>11</th>\n",
              "      <td>1</td>\n",
              "      <td>0</td>\n",
              "      <td>1</td>\n",
              "      <td>1</td>\n",
              "      <td>0</td>\n",
              "    </tr>\n",
              "    <tr>\n",
              "      <th>1</th>\n",
              "      <td>0</td>\n",
              "      <td>0</td>\n",
              "      <td>1</td>\n",
              "      <td>1</td>\n",
              "      <td>0</td>\n",
              "    </tr>\n",
              "    <tr>\n",
              "      <th>5</th>\n",
              "      <td>1</td>\n",
              "      <td>1</td>\n",
              "      <td>1</td>\n",
              "      <td>1</td>\n",
              "      <td>0</td>\n",
              "    </tr>\n",
              "    <tr>\n",
              "      <th>17</th>\n",
              "      <td>1</td>\n",
              "      <td>0</td>\n",
              "      <td>1</td>\n",
              "      <td>1</td>\n",
              "      <td>0</td>\n",
              "    </tr>\n",
              "    <tr>\n",
              "      <th>14</th>\n",
              "      <td>0</td>\n",
              "      <td>1</td>\n",
              "      <td>1</td>\n",
              "      <td>0</td>\n",
              "      <td>0</td>\n",
              "    </tr>\n",
              "    <tr>\n",
              "      <th>9</th>\n",
              "      <td>1</td>\n",
              "      <td>0</td>\n",
              "      <td>0</td>\n",
              "      <td>1</td>\n",
              "      <td>0</td>\n",
              "    </tr>\n",
              "  </tbody>\n",
              "</table>\n",
              "</div>\n",
              "      <button class=\"colab-df-convert\" onclick=\"convertToInteractive('df-f514b02f-8f69-4efd-b939-77ee8c6ec6e0')\"\n",
              "              title=\"Convert this dataframe to an interactive table.\"\n",
              "              style=\"display:none;\">\n",
              "        \n",
              "  <svg xmlns=\"http://www.w3.org/2000/svg\" height=\"24px\"viewBox=\"0 0 24 24\"\n",
              "       width=\"24px\">\n",
              "    <path d=\"M0 0h24v24H0V0z\" fill=\"none\"/>\n",
              "    <path d=\"M18.56 5.44l.94 2.06.94-2.06 2.06-.94-2.06-.94-.94-2.06-.94 2.06-2.06.94zm-11 1L8.5 8.5l.94-2.06 2.06-.94-2.06-.94L8.5 2.5l-.94 2.06-2.06.94zm10 10l.94 2.06.94-2.06 2.06-.94-2.06-.94-.94-2.06-.94 2.06-2.06.94z\"/><path d=\"M17.41 7.96l-1.37-1.37c-.4-.4-.92-.59-1.43-.59-.52 0-1.04.2-1.43.59L10.3 9.45l-7.72 7.72c-.78.78-.78 2.05 0 2.83L4 21.41c.39.39.9.59 1.41.59.51 0 1.02-.2 1.41-.59l7.78-7.78 2.81-2.81c.8-.78.8-2.07 0-2.86zM5.41 20L4 18.59l7.72-7.72 1.47 1.35L5.41 20z\"/>\n",
              "  </svg>\n",
              "      </button>\n",
              "      \n",
              "  <style>\n",
              "    .colab-df-container {\n",
              "      display:flex;\n",
              "      flex-wrap:wrap;\n",
              "      gap: 12px;\n",
              "    }\n",
              "\n",
              "    .colab-df-convert {\n",
              "      background-color: #E8F0FE;\n",
              "      border: none;\n",
              "      border-radius: 50%;\n",
              "      cursor: pointer;\n",
              "      display: none;\n",
              "      fill: #1967D2;\n",
              "      height: 32px;\n",
              "      padding: 0 0 0 0;\n",
              "      width: 32px;\n",
              "    }\n",
              "\n",
              "    .colab-df-convert:hover {\n",
              "      background-color: #E2EBFA;\n",
              "      box-shadow: 0px 1px 2px rgba(60, 64, 67, 0.3), 0px 1px 3px 1px rgba(60, 64, 67, 0.15);\n",
              "      fill: #174EA6;\n",
              "    }\n",
              "\n",
              "    [theme=dark] .colab-df-convert {\n",
              "      background-color: #3B4455;\n",
              "      fill: #D2E3FC;\n",
              "    }\n",
              "\n",
              "    [theme=dark] .colab-df-convert:hover {\n",
              "      background-color: #434B5C;\n",
              "      box-shadow: 0px 1px 3px 1px rgba(0, 0, 0, 0.15);\n",
              "      filter: drop-shadow(0px 1px 2px rgba(0, 0, 0, 0.3));\n",
              "      fill: #FFFFFF;\n",
              "    }\n",
              "  </style>\n",
              "\n",
              "      <script>\n",
              "        const buttonEl =\n",
              "          document.querySelector('#df-f514b02f-8f69-4efd-b939-77ee8c6ec6e0 button.colab-df-convert');\n",
              "        buttonEl.style.display =\n",
              "          google.colab.kernel.accessAllowed ? 'block' : 'none';\n",
              "\n",
              "        async function convertToInteractive(key) {\n",
              "          const element = document.querySelector('#df-f514b02f-8f69-4efd-b939-77ee8c6ec6e0');\n",
              "          const dataTable =\n",
              "            await google.colab.kernel.invokeFunction('convertToInteractive',\n",
              "                                                     [key], {});\n",
              "          if (!dataTable) return;\n",
              "\n",
              "          const docLinkHtml = 'Like what you see? Visit the ' +\n",
              "            '<a target=\"_blank\" href=https://colab.research.google.com/notebooks/data_table.ipynb>data table notebook</a>'\n",
              "            + ' to learn more about interactive tables.';\n",
              "          element.innerHTML = '';\n",
              "          dataTable['output_type'] = 'display_data';\n",
              "          await google.colab.output.renderOutput(dataTable, element);\n",
              "          const docLink = document.createElement('div');\n",
              "          docLink.innerHTML = docLinkHtml;\n",
              "          element.appendChild(docLink);\n",
              "        }\n",
              "      </script>\n",
              "    </div>\n",
              "  </div>\n",
              "  "
            ],
            "text/plain": [
              "    x1  x2  x3  x4  x5\n",
              "16   1   0   1   0   1\n",
              "3    1   0   0   1   0\n",
              "10   1   0   1   0   1\n",
              "2    0   1   1   0   0\n",
              "7    0   0   1   1   0\n",
              "6    1   1   0   1   1\n",
              "8    0   1   1   0   0\n",
              "0    1   1   0   1   1\n",
              "15   1   0   0   1   0\n",
              "12   1   1   0   1   1\n",
              "4    1   0   1   0   1\n",
              "11   1   0   1   1   0\n",
              "1    0   0   1   1   0\n",
              "5    1   1   1   1   0\n",
              "17   1   0   1   1   0\n",
              "14   0   1   1   0   0\n",
              "9    1   0   0   1   0"
            ]
          },
          "execution_count": 57,
          "metadata": {},
          "output_type": "execute_result"
        }
      ],
      "source": [
        "from sklearn.model_selection import train_test_split\n",
        "df = pd.read_csv('/content/gdrive/MyDrive/email.csv')\n",
        "X = df.drop(columns=['x0','class'])\n",
        "y = list(df['class'])\n",
        "x_train, x_test, y_train, y_test = train_test_split(X, y, test_size=0.01, random_state=16)\n",
        "x_test=np.stack((xi[0],xi[1],xi[2],xi[3],xi[4]),axis=1)\n",
        "y_test = np.array(yy[:m])\n",
        "x_train"
      ]
    },
    {
      "cell_type": "markdown",
      "metadata": {
        "id": "ZJC3Ywx_WnO0"
      },
      "source": [
        "Predicting the output"
      ]
    },
    {
      "cell_type": "code",
      "execution_count": null,
      "metadata": {
        "colab": {
          "base_uri": "https://localhost:8080/"
        },
        "id": "gWI2C2tWSyqy",
        "outputId": "faad9d3f-f54c-4c03-aed6-46a08d0d4d4c"
      },
      "outputs": [
        {
          "name": "stderr",
          "output_type": "stream",
          "text": [
            "/usr/local/lib/python3.10/dist-packages/sklearn/base.py:439: UserWarning: X does not have valid feature names, but LogisticRegression was fitted with feature names\n",
            "  warnings.warn(\n"
          ]
        },
        {
          "data": {
            "text/plain": [
              "array([1, 1, 1, 1, 1, 1, 1, 1])"
            ]
          },
          "execution_count": 58,
          "metadata": {},
          "output_type": "execute_result"
        }
      ],
      "source": [
        "from sklearn.linear_model import LogisticRegression\n",
        "logreg = LogisticRegression(random_state=16)\n",
        "logreg.fit(x_train, y_train)\n",
        "y_pred=(logreg.predict(x_test))\n",
        "y_pred"
      ]
    },
    {
      "cell_type": "markdown",
      "metadata": {
        "id": "0dvIAebDWwF5"
      },
      "source": [
        "Printing the predicted output with given testing output on testing dataset"
      ]
    },
    {
      "cell_type": "code",
      "execution_count": null,
      "metadata": {
        "colab": {
          "base_uri": "https://localhost:8080/"
        },
        "id": "8gfCSLDvSzRh",
        "outputId": "bcca057c-62eb-46e5-8b8f-15173b0e61ae"
      },
      "outputs": [
        {
          "name": "stdout",
          "output_type": "stream",
          "text": [
            "The predicted output =  ['spam', 'spam', 'spam', 'spam', 'spam', 'spam', 'spam', 'spam']\n",
            "The actual output =  ['spam', 'spam', 'spam', 'spam', 'ham', 'ham', 'ham', 'ham']\n"
          ]
        }
      ],
      "source": [
        "print('The predicted output = ',output(y_pred))\n",
        "print('The actual output = ',output(y_test))"
      ]
    },
    {
      "cell_type": "markdown",
      "metadata": {
        "id": "0istwXf-W9rM"
      },
      "source": [
        "Calculating the Accuracy set"
      ]
    },
    {
      "cell_type": "code",
      "execution_count": null,
      "metadata": {
        "colab": {
          "base_uri": "https://localhost:8080/"
        },
        "id": "tVKC11gaS03T",
        "outputId": "94f11e90-5ec6-40d9-a4a8-50bf3e908577"
      },
      "outputs": [
        {
          "name": "stdout",
          "output_type": "stream",
          "text": [
            "Accuracy score=  50.0 %\n"
          ]
        }
      ],
      "source": [
        "from sklearn.metrics import accuracy_score\n",
        "score =accuracy_score(y_test,y_pred)\n",
        "print(\"Accuracy score= \",score*100,\"%\")"
      ]
    },
    {
      "cell_type": "markdown",
      "metadata": {
        "id": "hfXn5kuUXgh3"
      },
      "source": [
        "Importing Heart Dataset"
      ]
    },
    {
      "cell_type": "code",
      "execution_count": null,
      "metadata": {
        "colab": {
          "base_uri": "https://localhost:8080/"
        },
        "id": "lut6vmw-S3fl",
        "outputId": "c2f14f5c-5ba9-4d5d-b0fa-bf3085b45368"
      },
      "outputs": [
        {
          "name": "stdout",
          "output_type": "stream",
          "text": [
            "Index(['age', 'sex', 'cp', 'trestbps', 'chol', 'fbs', 'restecg', 'thalach',\n",
            "       'exang', 'oldpeak', 'slope', 'ca', 'thal'],\n",
            "      dtype='object')\n",
            "820\n",
            "1025\n",
            "13\n"
          ]
        }
      ],
      "source": [
        "df = pd.read_csv('/content/gdrive/MyDrive/heart (1).csv')\n",
        "# for i in range(1000):\n",
        "#     df=df.sample(frac = 1)\n",
        "# df.head()\n",
        "#df.drop(columns=['target'])\n",
        "print(df.drop(columns=['target']).columns)\n",
        "len(df.drop(columns=['target']).columns)\n",
        "#print(np.array((df['age'],df['fbs'])))\n",
        "n=df.shape[0]\n",
        "m=int(0.8*n)\n",
        "print(m)\n",
        "print(n)\n",
        "print(len(df.drop(columns=['target']).columns))"
      ]
    },
    {
      "cell_type": "markdown",
      "metadata": {
        "id": "1h4Z_b43Xk_b"
      },
      "source": [
        "Preprocessing the for training set"
      ]
    },
    {
      "cell_type": "code",
      "execution_count": null,
      "metadata": {
        "id": "4wBDyTr6S7Rc"
      },
      "outputs": [],
      "source": [
        "xx = list(df['age']),list(df['sex']),list(df['cp']), list(df['trestbps']),list(df['chol']),list(df['fbs']),list(df['restecg']),list(df['thalach']),list(df['exang']),list(df['oldpeak']),list(df['slope']), list(df['ca']), list(df['thal'])\n",
        "# xx = df.drop(columns=['target'])\n",
        "\n",
        "yy = list(df['target'])\n",
        "y_train = np.array(yy[:m])\n",
        "xi = [ xx[0][:m] , xx[1][:m] , xx[2][:m] , xx[3][:m] , xx[4][:m] , xx[5][:m] , xx[6][:m] , xx[7][:m] , xx[8][:m] , xx[9][:m] , xx[10][:m] , xx[11][:m] , xx[12][:m] ]\n",
        "x_train=np.stack((xi[0],xi[1],xi[2],xi[3],xi[4],xi[5],xi[6],xi[7],xi[8],xi[9],xi[10],xi[11],xi[12]),axis=1)\n",
        "xt =[ xx[0][m:] , xx[1][m:] , xx[2][m:] , xx[3][m:] , xx[4][m:] , xx[5][m:] , xx[6][m:] , xx[7][m:] , xx[8][m:] , xx[9][m:] , xx[10][m:] , xx[11][m:] , xx[12][m:] ]\n",
        "x_test = np.stack((xt[0],xt[1],xt[2],xt[3],xt[4],xt[5],xt[6],xt[7],xt[8],xt[9],xt[10],xt[11],xt[12]),axis=1)\n",
        "y_test = np.array(yy[m:])"
      ]
    },
    {
      "cell_type": "markdown",
      "metadata": {
        "id": "NEU-xEqNXstR"
      },
      "source": [
        "Printing the parameters"
      ]
    },
    {
      "cell_type": "code",
      "execution_count": null,
      "metadata": {
        "colab": {
          "background_save": true,
          "base_uri": "https://localhost:8080/"
        },
        "id": "Ek-Zuj7ZS8oj",
        "outputId": "7dd8dd4c-6494-4709-81a9-44bd2b9cb528"
      },
      "outputs": [
        {
          "name": "stdout",
          "output_type": "stream",
          "text": [
            "[0, 0, 0, 0, 0, 0, 0, 0, 0, 0, 0, 0, 0]\n",
            "cost after  0 iteration is :  0.000896602514549211\n",
            "cost after  10000 iteration is :  0.00016948786445502247\n",
            "cost after  20000 iteration is :  0.00014752715825761326\n",
            "cost after  30000 iteration is :  0.00013938868093660983\n",
            "cost after  40000 iteration is :  0.00012582476636936266\n",
            "cost after  50000 iteration is :  0.00010680290794223855\n",
            "cost after  60000 iteration is :  8.602581244902082e-05\n",
            "cost after  70000 iteration is :  6.656437107494819e-05\n",
            "cost after  80000 iteration is :  4.997663077858098e-05\n",
            "cost after  90000 iteration is :  3.667022129191687e-05\n",
            "The parameters are  [ 0.27423505 -1.4577233   1.87459764  0.04792082  0.00617198 -0.51928321\n",
            "  1.70898903  0.19942052 -0.78262151 -0.94850009  0.97832286 -1.60724726\n",
            " -1.12164173] -51.06440958627244\n",
            "The cost function values =  "
          ]
        },
        {
          "name": "stderr",
          "output_type": "stream",
          "text": [
            "IOPub data rate exceeded.\n",
            "The notebook server will temporarily stop sending output\n",
            "to the client in order to avoid crashing it.\n",
            "To change this limit, set the config variable\n",
            "`--NotebookApp.iopub_data_rate_limit`.\n",
            "\n",
            "Current values:\n",
            "NotebookApp.iopub_data_rate_limit=1000000.0 (bytes/sec)\n",
            "NotebookApp.rate_limit_window=3.0 (secs)\n",
            "\n"
          ]
        }
      ],
      "source": [
        "epoch = 100000\n",
        "n = len(df.drop(columns=['target']).columns)\n",
        "W, B, cost_list = model(x_train,y_train,0.001,epoch,n)\n",
        "print('The parameters are ',W,B)\n",
        "print(\"The cost function values = \",end = ' ')\n",
        "print(cost_list)"
      ]
    },
    {
      "cell_type": "markdown",
      "metadata": {
        "id": "8x4T6xpNZPl8"
      },
      "source": [
        "Plot the Cost Function values with respect to epoch values"
      ]
    },
    {
      "cell_type": "code",
      "execution_count": null,
      "metadata": {
        "colab": {
          "background_save": true
        },
        "id": "GpEOgKeeZQSn",
        "outputId": "6227162a-c77d-4fd5-fbc3-7f13d82e372f"
      },
      "outputs": [
        {
          "data": {
            "image/png": "[encoded data removed]",
            "text/plain": [
              "<Figure size 640x480 with 1 Axes>"
            ]
          },
          "metadata": {},
          "output_type": "display_data"
        }
      ],
      "source": [
        "x1 = []\n",
        "y1 = []\n",
        "for i in range(len(cost_list)):\n",
        "    if(i%(epoch/10) == 0):\n",
        "        x1.append(i)\n",
        "        y1.append(cost_list[i])\n",
        "plt.scatter(x1,y1)\n",
        "plt.xlabel('Epoch Values')\n",
        "plt.ylabel('Cost Function')\n",
        "plt.show()"
      ]
    },
    {
      "cell_type": "markdown",
      "metadata": {
        "id": "zUG1-Xq8Xwai"
      },
      "source": [
        "Classifying whether Heart Disease present or absent"
      ]
    },
    {
      "cell_type": "code",
      "execution_count": null,
      "metadata": {
        "colab": {
          "background_save": true
        },
        "id": "80nA45IAS-B7"
      },
      "outputs": [],
      "source": [
        "def output(y):\n",
        "    x = []\n",
        "    for i in y:\n",
        "        if i==1:\n",
        "            x.append('Heart Disease Present')\n",
        "        else:\n",
        "            x.append('Heart Disease Absent')\n",
        "    return x"
      ]
    },
    {
      "cell_type": "markdown",
      "metadata": {
        "id": "XlQlqXAOX3bL"
      },
      "source": [
        "Printing the Predicted and Actual Output"
      ]
    },
    {
      "cell_type": "code",
      "execution_count": null,
      "metadata": {
        "colab": {
          "background_save": true
        },
        "id": "hVjnNsoWS_h3",
        "outputId": "195e1d38-8b8e-4e94-92ce-11d87abba9dc"
      },
      "outputs": [
        {
          "name": "stdout",
          "output_type": "stream",
          "text": [
            "[0, 0, 0, 1, 0, 1, 1, 0, 1, 0, 0, 0, 1, 0, 0, 0, 1, 1, 0, 1, 0, 1, 1, 1, 0, 0, 1, 0, 1, 0, 1, 1, 0, 0, 1, 0, 0, 1, 0, 1, 1, 1, 1, 0, 1, 1, 1, 0, 1, 1, 1, 1, 1, 1, 1, 0, 0, 1, 0, 1, 1, 1, 0, 0, 0, 0, 0, 0, 0, 0, 0, 1, 0, 1, 1, 0, 1, 1, 0, 1, 1, 0, 0, 0, 1, 0, 1, 1, 0, 0, 1, 1, 0, 0, 0, 0, 0, 1, 1, 1, 0, 0, 1, 1, 1, 0, 0, 1, 0, 0, 0, 1, 1, 1, 1, 1, 1, 1, 0, 1, 0, 1, 1, 0, 1, 1, 1, 1, 0, 1, 0, 0, 1, 0, 0, 0, 1, 1, 1, 1, 1, 0, 0, 0, 1, 1, 0, 0, 0, 1, 0, 1, 1, 1, 0, 0, 1, 1, 0, 0, 1, 0, 1, 0, 1, 0, 0, 1, 0, 1, 1, 0, 1, 0, 0, 1, 0, 0, 0, 1, 0, 1, 0, 0, 1, 0, 1, 1, 1, 1, 1, 1, 1, 0, 1, 0, 1, 0, 0, 0, 1, 0, 0, 1, 0]\n",
            "The predicted output =  ['Heart Disease Absent', 'Heart Disease Absent', 'Heart Disease Absent', 'Heart Disease Present', 'Heart Disease Absent', 'Heart Disease Present', 'Heart Disease Present', 'Heart Disease Absent', 'Heart Disease Present', 'Heart Disease Absent', 'Heart Disease Absent', 'Heart Disease Absent', 'Heart Disease Present', 'Heart Disease Absent', 'Heart Disease Absent', 'Heart Disease Absent', 'Heart Disease Present', 'Heart Disease Present', 'Heart Disease Absent', 'Heart Disease Present', 'Heart Disease Absent', 'Heart Disease Present', 'Heart Disease Present', 'Heart Disease Present', 'Heart Disease Absent', 'Heart Disease Absent', 'Heart Disease Present', 'Heart Disease Absent', 'Heart Disease Present', 'Heart Disease Absent', 'Heart Disease Present', 'Heart Disease Present', 'Heart Disease Absent', 'Heart Disease Absent', 'Heart Disease Present', 'Heart Disease Absent', 'Heart Disease Absent', 'Heart Disease Present', 'Heart Disease Absent', 'Heart Disease Present', 'Heart Disease Present', 'Heart Disease Present', 'Heart Disease Present', 'Heart Disease Absent', 'Heart Disease Present', 'Heart Disease Present', 'Heart Disease Present', 'Heart Disease Absent', 'Heart Disease Present', 'Heart Disease Present', 'Heart Disease Present', 'Heart Disease Present', 'Heart Disease Present', 'Heart Disease Present', 'Heart Disease Present', 'Heart Disease Absent', 'Heart Disease Absent', 'Heart Disease Present', 'Heart Disease Absent', 'Heart Disease Present', 'Heart Disease Present', 'Heart Disease Present', 'Heart Disease Absent', 'Heart Disease Absent', 'Heart Disease Absent', 'Heart Disease Absent', 'Heart Disease Absent', 'Heart Disease Absent', 'Heart Disease Absent', 'Heart Disease Absent', 'Heart Disease Absent', 'Heart Disease Present', 'Heart Disease Absent', 'Heart Disease Present', 'Heart Disease Present', 'Heart Disease Absent', 'Heart Disease Present', 'Heart Disease Present', 'Heart Disease Absent', 'Heart Disease Present', 'Heart Disease Present', 'Heart Disease Absent', 'Heart Disease Absent', 'Heart Disease Absent', 'Heart Disease Present', 'Heart Disease Absent', 'Heart Disease Present', 'Heart Disease Present', 'Heart Disease Absent', 'Heart Disease Absent', 'Heart Disease Present', 'Heart Disease Present', 'Heart Disease Absent', 'Heart Disease Absent', 'Heart Disease Absent', 'Heart Disease Absent', 'Heart Disease Absent', 'Heart Disease Present', 'Heart Disease Present', 'Heart Disease Present', 'Heart Disease Absent', 'Heart Disease Absent', 'Heart Disease Present', 'Heart Disease Present', 'Heart Disease Present', 'Heart Disease Absent', 'Heart Disease Absent', 'Heart Disease Present', 'Heart Disease Absent', 'Heart Disease Absent', 'Heart Disease Absent', 'Heart Disease Present', 'Heart Disease Present', 'Heart Disease Present', 'Heart Disease Present', 'Heart Disease Present', 'Heart Disease Present', 'Heart Disease Present', 'Heart Disease Absent', 'Heart Disease Present', 'Heart Disease Absent', 'Heart Disease Present', 'Heart Disease Present', 'Heart Disease Absent', 'Heart Disease Present', 'Heart Disease Present', 'Heart Disease Present', 'Heart Disease Present', 'Heart Disease Absent', 'Heart Disease Present', 'Heart Disease Absent', 'Heart Disease Absent', 'Heart Disease Present', 'Heart Disease Absent', 'Heart Disease Absent', 'Heart Disease Absent', 'Heart Disease Present', 'Heart Disease Present', 'Heart Disease Present', 'Heart Disease Present', 'Heart Disease Present', 'Heart Disease Absent', 'Heart Disease Absent', 'Heart Disease Absent', 'Heart Disease Present', 'Heart Disease Present', 'Heart Disease Absent', 'Heart Disease Absent', 'Heart Disease Absent', 'Heart Disease Present', 'Heart Disease Absent', 'Heart Disease Present', 'Heart Disease Present', 'Heart Disease Present', 'Heart Disease Absent', 'Heart Disease Absent', 'Heart Disease Present', 'Heart Disease Present', 'Heart Disease Absent', 'Heart Disease Absent', 'Heart Disease Present', 'Heart Disease Absent', 'Heart Disease Present', 'Heart Disease Absent', 'Heart Disease Present', 'Heart Disease Absent', 'Heart Disease Absent', 'Heart Disease Present', 'Heart Disease Absent', 'Heart Disease Present', 'Heart Disease Present', 'Heart Disease Absent', 'Heart Disease Present', 'Heart Disease Absent', 'Heart Disease Absent', 'Heart Disease Present', 'Heart Disease Absent', 'Heart Disease Absent', 'Heart Disease Absent', 'Heart Disease Present', 'Heart Disease Absent', 'Heart Disease Present', 'Heart Disease Absent', 'Heart Disease Absent', 'Heart Disease Present', 'Heart Disease Absent', 'Heart Disease Present', 'Heart Disease Present', 'Heart Disease Present', 'Heart Disease Present', 'Heart Disease Present', 'Heart Disease Present', 'Heart Disease Present', 'Heart Disease Absent', 'Heart Disease Present', 'Heart Disease Absent', 'Heart Disease Present', 'Heart Disease Absent', 'Heart Disease Absent', 'Heart Disease Absent', 'Heart Disease Present', 'Heart Disease Absent', 'Heart Disease Absent', 'Heart Disease Present', 'Heart Disease Absent']\n",
            "The actual output =  ['Heart Disease Absent', 'Heart Disease Absent', 'Heart Disease Absent', 'Heart Disease Present', 'Heart Disease Absent', 'Heart Disease Present', 'Heart Disease Present', 'Heart Disease Absent', 'Heart Disease Present', 'Heart Disease Absent', 'Heart Disease Present', 'Heart Disease Present', 'Heart Disease Present', 'Heart Disease Absent', 'Heart Disease Absent', 'Heart Disease Absent', 'Heart Disease Present', 'Heart Disease Present', 'Heart Disease Present', 'Heart Disease Present', 'Heart Disease Absent', 'Heart Disease Present', 'Heart Disease Absent', 'Heart Disease Absent', 'Heart Disease Absent', 'Heart Disease Absent', 'Heart Disease Present', 'Heart Disease Absent', 'Heart Disease Present', 'Heart Disease Absent', 'Heart Disease Absent', 'Heart Disease Present', 'Heart Disease Absent', 'Heart Disease Absent', 'Heart Disease Absent', 'Heart Disease Present', 'Heart Disease Present', 'Heart Disease Present', 'Heart Disease Present', 'Heart Disease Absent', 'Heart Disease Absent', 'Heart Disease Absent', 'Heart Disease Absent', 'Heart Disease Absent', 'Heart Disease Absent', 'Heart Disease Present', 'Heart Disease Present', 'Heart Disease Present', 'Heart Disease Present', 'Heart Disease Present', 'Heart Disease Present', 'Heart Disease Present', 'Heart Disease Present', 'Heart Disease Present', 'Heart Disease Absent', 'Heart Disease Absent', 'Heart Disease Absent', 'Heart Disease Present', 'Heart Disease Absent', 'Heart Disease Present', 'Heart Disease Present', 'Heart Disease Absent', 'Heart Disease Absent', 'Heart Disease Absent', 'Heart Disease Absent', 'Heart Disease Absent', 'Heart Disease Absent', 'Heart Disease Present', 'Heart Disease Absent', 'Heart Disease Absent', 'Heart Disease Absent', 'Heart Disease Present', 'Heart Disease Absent', 'Heart Disease Absent', 'Heart Disease Absent', 'Heart Disease Absent', 'Heart Disease Present', 'Heart Disease Present', 'Heart Disease Present', 'Heart Disease Present', 'Heart Disease Absent', 'Heart Disease Present', 'Heart Disease Absent', 'Heart Disease Absent', 'Heart Disease Present', 'Heart Disease Absent', 'Heart Disease Present', 'Heart Disease Present', 'Heart Disease Absent', 'Heart Disease Absent', 'Heart Disease Absent', 'Heart Disease Absent', 'Heart Disease Absent', 'Heart Disease Present', 'Heart Disease Absent', 'Heart Disease Absent', 'Heart Disease Absent', 'Heart Disease Present', 'Heart Disease Absent', 'Heart Disease Absent', 'Heart Disease Absent', 'Heart Disease Absent', 'Heart Disease Present', 'Heart Disease Present', 'Heart Disease Absent', 'Heart Disease Absent', 'Heart Disease Absent', 'Heart Disease Present', 'Heart Disease Absent', 'Heart Disease Absent', 'Heart Disease Absent', 'Heart Disease Absent', 'Heart Disease Present', 'Heart Disease Absent', 'Heart Disease Present', 'Heart Disease Present', 'Heart Disease Present', 'Heart Disease Absent', 'Heart Disease Present', 'Heart Disease Present', 'Heart Disease Absent', 'Heart Disease Present', 'Heart Disease Present', 'Heart Disease Present', 'Heart Disease Absent', 'Heart Disease Present', 'Heart Disease Present', 'Heart Disease Present', 'Heart Disease Absent', 'Heart Disease Present', 'Heart Disease Absent', 'Heart Disease Absent', 'Heart Disease Present', 'Heart Disease Present', 'Heart Disease Present', 'Heart Disease Present', 'Heart Disease Present', 'Heart Disease Absent', 'Heart Disease Present', 'Heart Disease Present', 'Heart Disease Present', 'Heart Disease Present', 'Heart Disease Present', 'Heart Disease Absent', 'Heart Disease Present', 'Heart Disease Present', 'Heart Disease Absent', 'Heart Disease Present', 'Heart Disease Absent', 'Heart Disease Present', 'Heart Disease Present', 'Heart Disease Present', 'Heart Disease Present', 'Heart Disease Present', 'Heart Disease Present', 'Heart Disease Absent', 'Heart Disease Absent', 'Heart Disease Present', 'Heart Disease Absent', 'Heart Disease Absent', 'Heart Disease Present', 'Heart Disease Absent', 'Heart Disease Present', 'Heart Disease Present', 'Heart Disease Present', 'Heart Disease Present', 'Heart Disease Absent', 'Heart Disease Absent', 'Heart Disease Absent', 'Heart Disease Present', 'Heart Disease Present', 'Heart Disease Absent', 'Heart Disease Present', 'Heart Disease Absent', 'Heart Disease Absent', 'Heart Disease Present', 'Heart Disease Absent', 'Heart Disease Absent', 'Heart Disease Absent', 'Heart Disease Absent', 'Heart Disease Absent', 'Heart Disease Present', 'Heart Disease Absent', 'Heart Disease Present', 'Heart Disease Present', 'Heart Disease Absent', 'Heart Disease Present', 'Heart Disease Present', 'Heart Disease Present', 'Heart Disease Absent', 'Heart Disease Absent', 'Heart Disease Present', 'Heart Disease Absent', 'Heart Disease Absent', 'Heart Disease Present', 'Heart Disease Absent', 'Heart Disease Absent', 'Heart Disease Absent', 'Heart Disease Absent', 'Heart Disease Present', 'Heart Disease Present', 'Heart Disease Absent', 'Heart Disease Absent', 'Heart Disease Present', 'Heart Disease Absent']\n",
            "Accuracy score =  72.6829268292683 %\n"
          ]
        }
      ],
      "source": [
        "y_output = predict(W,B,x_test)\n",
        "print(y_output)\n",
        "print('The predicted output = ',output(y_output))\n",
        "print('The actual output = ',output(y_test))\n",
        "sum = 0.0\n",
        "for i in range(len(y_output)):\n",
        "    if y_output[i] == y_test[i]:\n",
        "        sum+=1.0\n",
        "sum = sum/len(y_output)\n",
        "sum*=100\n",
        "print(\"Accuracy score = \",sum,\"%\")"
      ]
    },
    {
      "cell_type": "markdown",
      "metadata": {
        "id": "Jytky22aX7p6"
      },
      "source": [
        "Scikit/Sklearn Method"
      ]
    },
    {
      "cell_type": "code",
      "execution_count": null,
      "metadata": {
        "colab": {
          "background_save": true
        },
        "id": "XW6MEa5bTAT8"
      },
      "outputs": [],
      "source": [
        "from sklearn.model_selection import train_test_split\n",
        "df = pd.read_csv('/content/gdrive/MyDrive/heart (1).csv')\n",
        "X = df.drop(columns=['target'])\n",
        "y = list(df['target'])\n",
        "X_train, X_test, y_train, y_test = train_test_split(X, y, test_size=0.2, random_state=16)"
      ]
    },
    {
      "cell_type": "markdown",
      "metadata": {
        "id": "T9H5AT7yYAsC"
      },
      "source": [
        "Fitting the model"
      ]
    },
    {
      "cell_type": "code",
      "execution_count": null,
      "metadata": {
        "colab": {
          "background_save": true
        },
        "id": "XtclqGI4TB84",
        "outputId": "0bf36be4-902c-408e-a6d2-2345b003e99c"
      },
      "outputs": [
        {
          "name": "stderr",
          "output_type": "stream",
          "text": [
            "/usr/local/lib/python3.10/dist-packages/sklearn/linear_model/_logistic.py:458: ConvergenceWarning: lbfgs failed to converge (status=1):\n",
            "STOP: TOTAL NO. of ITERATIONS REACHED LIMIT.\n",
            "\n",
            "Increase the number of iterations (max_iter) or scale the data as shown in:\n",
            "    https://scikit-learn.org/stable/modules/preprocessing.html\n",
            "Please also refer to the documentation for alternative solver options:\n",
            "    https://scikit-learn.org/stable/modules/linear_model.html#logistic-regression\n",
            "  n_iter_i = _check_optimize_result(\n"
          ]
        },
        {
          "data": {
            "text/plain": [
              "array([0, 1, 1, 0, 1, 1, 1, 0, 1, 1, 1, 0, 0, 1, 0, 0, 1, 1, 1, 1, 0, 1,\n",
              "       1, 1, 1, 1, 1, 0, 1, 1, 1, 1, 1, 1, 1, 1, 1, 0, 1, 0, 0, 0, 0, 1,\n",
              "       0, 1, 0, 0, 0, 1, 1, 1, 0, 0, 1, 1, 1, 0, 0, 0, 1, 0, 1, 1, 0, 1,\n",
              "       0, 0, 0, 0, 0, 1, 1, 0, 0, 0, 0, 1, 0, 1, 0, 1, 1, 1, 0, 1, 1, 0,\n",
              "       1, 1, 1, 0, 1, 0, 1, 1, 1, 0, 0, 1, 1, 0, 1, 1, 0, 1, 1, 0, 1, 0,\n",
              "       1, 1, 0, 1, 0, 0, 1, 1, 0, 0, 0, 0, 1, 1, 0, 1, 1, 0, 0, 1, 1, 1,\n",
              "       0, 0, 0, 0, 0, 1, 0, 0, 0, 1, 1, 0, 0, 0, 0, 1, 1, 1, 1, 1, 1, 0,\n",
              "       1, 0, 0, 0, 0, 1, 1, 0, 0, 1, 0, 1, 1, 0, 1, 1, 1, 1, 0, 1, 0, 1,\n",
              "       0, 1, 0, 1, 1, 0, 1, 1, 0, 1, 0, 1, 1, 1, 0, 1, 1, 1, 1, 1, 1, 0,\n",
              "       1, 0, 1, 1, 0, 0, 1])"
            ]
          },
          "execution_count": 68,
          "metadata": {},
          "output_type": "execute_result"
        }
      ],
      "source": [
        "from sklearn.linear_model import LogisticRegression\n",
        "\n",
        "logreg = LogisticRegression(random_state=16)\n",
        "\n",
        "logreg.fit(X_train, y_train)\n",
        "y_pred=(logreg.predict(X_test))\n",
        "y_pred"
      ]
    },
    {
      "cell_type": "markdown",
      "metadata": {
        "id": "YnIYburSYH0n"
      },
      "source": [
        "Printing the predicted with actual output"
      ]
    },
    {
      "cell_type": "code",
      "execution_count": null,
      "metadata": {
        "colab": {
          "background_save": true
        },
        "id": "IOfgLAG0TEje",
        "outputId": "6093a80f-580a-4cdc-8f43-3abe859a1ddb"
      },
      "outputs": [
        {
          "name": "stdout",
          "output_type": "stream",
          "text": [
            "The predicted output =  ['Heart Disease Absent', 'Heart Disease Present', 'Heart Disease Present', 'Heart Disease Absent', 'Heart Disease Present', 'Heart Disease Present', 'Heart Disease Present', 'Heart Disease Absent', 'Heart Disease Present', 'Heart Disease Present', 'Heart Disease Present', 'Heart Disease Absent', 'Heart Disease Absent', 'Heart Disease Present', 'Heart Disease Absent', 'Heart Disease Absent', 'Heart Disease Present', 'Heart Disease Present', 'Heart Disease Present', 'Heart Disease Present', 'Heart Disease Absent', 'Heart Disease Present', 'Heart Disease Present', 'Heart Disease Present', 'Heart Disease Present', 'Heart Disease Present', 'Heart Disease Present', 'Heart Disease Absent', 'Heart Disease Present', 'Heart Disease Present', 'Heart Disease Present', 'Heart Disease Present', 'Heart Disease Present', 'Heart Disease Present', 'Heart Disease Present', 'Heart Disease Present', 'Heart Disease Present', 'Heart Disease Absent', 'Heart Disease Present', 'Heart Disease Absent', 'Heart Disease Absent', 'Heart Disease Absent', 'Heart Disease Absent', 'Heart Disease Present', 'Heart Disease Absent', 'Heart Disease Present', 'Heart Disease Absent', 'Heart Disease Absent', 'Heart Disease Absent', 'Heart Disease Present', 'Heart Disease Present', 'Heart Disease Present', 'Heart Disease Absent', 'Heart Disease Absent', 'Heart Disease Present', 'Heart Disease Present', 'Heart Disease Present', 'Heart Disease Absent', 'Heart Disease Absent', 'Heart Disease Absent', 'Heart Disease Present', 'Heart Disease Absent', 'Heart Disease Present', 'Heart Disease Present', 'Heart Disease Absent', 'Heart Disease Present', 'Heart Disease Absent', 'Heart Disease Absent', 'Heart Disease Absent', 'Heart Disease Absent', 'Heart Disease Absent', 'Heart Disease Present', 'Heart Disease Present', 'Heart Disease Absent', 'Heart Disease Absent', 'Heart Disease Absent', 'Heart Disease Absent', 'Heart Disease Present', 'Heart Disease Absent', 'Heart Disease Present', 'Heart Disease Absent', 'Heart Disease Present', 'Heart Disease Present', 'Heart Disease Present', 'Heart Disease Absent', 'Heart Disease Present', 'Heart Disease Present', 'Heart Disease Absent', 'Heart Disease Present', 'Heart Disease Present', 'Heart Disease Present', 'Heart Disease Absent', 'Heart Disease Present', 'Heart Disease Absent', 'Heart Disease Present', 'Heart Disease Present', 'Heart Disease Present', 'Heart Disease Absent', 'Heart Disease Absent', 'Heart Disease Present', 'Heart Disease Present', 'Heart Disease Absent', 'Heart Disease Present', 'Heart Disease Present', 'Heart Disease Absent', 'Heart Disease Present', 'Heart Disease Present', 'Heart Disease Absent', 'Heart Disease Present', 'Heart Disease Absent', 'Heart Disease Present', 'Heart Disease Present', 'Heart Disease Absent', 'Heart Disease Present', 'Heart Disease Absent', 'Heart Disease Absent', 'Heart Disease Present', 'Heart Disease Present', 'Heart Disease Absent', 'Heart Disease Absent', 'Heart Disease Absent', 'Heart Disease Absent', 'Heart Disease Present', 'Heart Disease Present', 'Heart Disease Absent', 'Heart Disease Present', 'Heart Disease Present', 'Heart Disease Absent', 'Heart Disease Absent', 'Heart Disease Present', 'Heart Disease Present', 'Heart Disease Present', 'Heart Disease Absent', 'Heart Disease Absent', 'Heart Disease Absent', 'Heart Disease Absent', 'Heart Disease Absent', 'Heart Disease Present', 'Heart Disease Absent', 'Heart Disease Absent', 'Heart Disease Absent', 'Heart Disease Present', 'Heart Disease Present', 'Heart Disease Absent', 'Heart Disease Absent', 'Heart Disease Absent', 'Heart Disease Absent', 'Heart Disease Present', 'Heart Disease Present', 'Heart Disease Present', 'Heart Disease Present', 'Heart Disease Present', 'Heart Disease Present', 'Heart Disease Absent', 'Heart Disease Present', 'Heart Disease Absent', 'Heart Disease Absent', 'Heart Disease Absent', 'Heart Disease Absent', 'Heart Disease Present', 'Heart Disease Present', 'Heart Disease Absent', 'Heart Disease Absent', 'Heart Disease Present', 'Heart Disease Absent', 'Heart Disease Present', 'Heart Disease Present', 'Heart Disease Absent', 'Heart Disease Present', 'Heart Disease Present', 'Heart Disease Present', 'Heart Disease Present', 'Heart Disease Absent', 'Heart Disease Present', 'Heart Disease Absent', 'Heart Disease Present', 'Heart Disease Absent', 'Heart Disease Present', 'Heart Disease Absent', 'Heart Disease Present', 'Heart Disease Present', 'Heart Disease Absent', 'Heart Disease Present', 'Heart Disease Present', 'Heart Disease Absent', 'Heart Disease Present', 'Heart Disease Absent', 'Heart Disease Present', 'Heart Disease Present', 'Heart Disease Present', 'Heart Disease Absent', 'Heart Disease Present', 'Heart Disease Present', 'Heart Disease Present', 'Heart Disease Present', 'Heart Disease Present', 'Heart Disease Present', 'Heart Disease Absent', 'Heart Disease Present', 'Heart Disease Absent', 'Heart Disease Present', 'Heart Disease Present', 'Heart Disease Absent', 'Heart Disease Absent', 'Heart Disease Present']\n",
            "The actual output =  ['Heart Disease Absent', 'Heart Disease Present', 'Heart Disease Present', 'Heart Disease Present', 'Heart Disease Present', 'Heart Disease Present', 'Heart Disease Absent', 'Heart Disease Absent', 'Heart Disease Present', 'Heart Disease Present', 'Heart Disease Present', 'Heart Disease Absent', 'Heart Disease Absent', 'Heart Disease Present', 'Heart Disease Absent', 'Heart Disease Absent', 'Heart Disease Absent', 'Heart Disease Present', 'Heart Disease Present', 'Heart Disease Present', 'Heart Disease Absent', 'Heart Disease Present', 'Heart Disease Present', 'Heart Disease Absent', 'Heart Disease Present', 'Heart Disease Present', 'Heart Disease Present', 'Heart Disease Absent', 'Heart Disease Present', 'Heart Disease Present', 'Heart Disease Absent', 'Heart Disease Present', 'Heart Disease Present', 'Heart Disease Present', 'Heart Disease Present', 'Heart Disease Present', 'Heart Disease Absent', 'Heart Disease Absent', 'Heart Disease Present', 'Heart Disease Absent', 'Heart Disease Absent', 'Heart Disease Absent', 'Heart Disease Absent', 'Heart Disease Absent', 'Heart Disease Absent', 'Heart Disease Absent', 'Heart Disease Absent', 'Heart Disease Present', 'Heart Disease Absent', 'Heart Disease Absent', 'Heart Disease Present', 'Heart Disease Present', 'Heart Disease Absent', 'Heart Disease Absent', 'Heart Disease Absent', 'Heart Disease Present', 'Heart Disease Present', 'Heart Disease Absent', 'Heart Disease Present', 'Heart Disease Absent', 'Heart Disease Absent', 'Heart Disease Absent', 'Heart Disease Present', 'Heart Disease Absent', 'Heart Disease Absent', 'Heart Disease Present', 'Heart Disease Absent', 'Heart Disease Absent', 'Heart Disease Present', 'Heart Disease Absent', 'Heart Disease Absent', 'Heart Disease Absent', 'Heart Disease Present', 'Heart Disease Absent', 'Heart Disease Absent', 'Heart Disease Absent', 'Heart Disease Absent', 'Heart Disease Present', 'Heart Disease Absent', 'Heart Disease Present', 'Heart Disease Absent', 'Heart Disease Present', 'Heart Disease Present', 'Heart Disease Present', 'Heart Disease Absent', 'Heart Disease Present', 'Heart Disease Absent', 'Heart Disease Absent', 'Heart Disease Present', 'Heart Disease Present', 'Heart Disease Present', 'Heart Disease Absent', 'Heart Disease Present', 'Heart Disease Absent', 'Heart Disease Present', 'Heart Disease Absent', 'Heart Disease Present', 'Heart Disease Absent', 'Heart Disease Present', 'Heart Disease Present', 'Heart Disease Present', 'Heart Disease Present', 'Heart Disease Present', 'Heart Disease Present', 'Heart Disease Absent', 'Heart Disease Present', 'Heart Disease Present', 'Heart Disease Absent', 'Heart Disease Present', 'Heart Disease Absent', 'Heart Disease Present', 'Heart Disease Present', 'Heart Disease Absent', 'Heart Disease Present', 'Heart Disease Absent', 'Heart Disease Absent', 'Heart Disease Present', 'Heart Disease Present', 'Heart Disease Absent', 'Heart Disease Absent', 'Heart Disease Absent', 'Heart Disease Absent', 'Heart Disease Present', 'Heart Disease Absent', 'Heart Disease Absent', 'Heart Disease Present', 'Heart Disease Present', 'Heart Disease Absent', 'Heart Disease Absent', 'Heart Disease Absent', 'Heart Disease Present', 'Heart Disease Present', 'Heart Disease Absent', 'Heart Disease Absent', 'Heart Disease Absent', 'Heart Disease Present', 'Heart Disease Absent', 'Heart Disease Present', 'Heart Disease Absent', 'Heart Disease Absent', 'Heart Disease Absent', 'Heart Disease Present', 'Heart Disease Present', 'Heart Disease Absent', 'Heart Disease Absent', 'Heart Disease Absent', 'Heart Disease Absent', 'Heart Disease Present', 'Heart Disease Present', 'Heart Disease Absent', 'Heart Disease Present', 'Heart Disease Absent', 'Heart Disease Present', 'Heart Disease Absent', 'Heart Disease Present', 'Heart Disease Absent', 'Heart Disease Absent', 'Heart Disease Absent', 'Heart Disease Absent', 'Heart Disease Present', 'Heart Disease Present', 'Heart Disease Absent', 'Heart Disease Absent', 'Heart Disease Present', 'Heart Disease Absent', 'Heart Disease Absent', 'Heart Disease Present', 'Heart Disease Absent', 'Heart Disease Present', 'Heart Disease Present', 'Heart Disease Present', 'Heart Disease Present', 'Heart Disease Absent', 'Heart Disease Present', 'Heart Disease Absent', 'Heart Disease Present', 'Heart Disease Present', 'Heart Disease Present', 'Heart Disease Absent', 'Heart Disease Absent', 'Heart Disease Present', 'Heart Disease Present', 'Heart Disease Present', 'Heart Disease Absent', 'Heart Disease Absent', 'Heart Disease Present', 'Heart Disease Absent', 'Heart Disease Present', 'Heart Disease Present', 'Heart Disease Present', 'Heart Disease Absent', 'Heart Disease Present', 'Heart Disease Present', 'Heart Disease Present', 'Heart Disease Present', 'Heart Disease Present', 'Heart Disease Present', 'Heart Disease Absent', 'Heart Disease Absent', 'Heart Disease Absent', 'Heart Disease Absent', 'Heart Disease Present', 'Heart Disease Absent', 'Heart Disease Absent', 'Heart Disease Absent']\n"
          ]
        }
      ],
      "source": [
        "print('The predicted output = ',output(y_pred))\n",
        "print('The actual output = ',output(y_test))"
      ]
    },
    {
      "cell_type": "markdown",
      "metadata": {
        "id": "yHdYA1MoYNDW"
      },
      "source": [
        "Printing the Accuracy Score"
      ]
    },
    {
      "cell_type": "code",
      "execution_count": null,
      "metadata": {
        "colab": {
          "background_save": true
        },
        "id": "siTa9VuiTFx8",
        "outputId": "646e19ee-77d1-4acb-b2cd-e296ecaa2c47"
      },
      "outputs": [
        {
          "name": "stdout",
          "output_type": "stream",
          "text": [
            "Accuracy score=  83.90243902439025 %\n"
          ]
        }
      ],
      "source": [
        "from sklearn.metrics import accuracy_score\n",
        "score =accuracy_score(y_test,y_pred)\n",
        "print(\"Accuracy score= \",score*100,\"%\")"
      ]
    }
  ],
  "metadata": {
    "colab": {
      "provenance": []
    },
    "kernelspec": {
      "display_name": "Python 3",
      "name": "python3"
    },
    "language_info": {
      "name": "python"
    }
  },
  "nbformat": 4,
  "nbformat_minor": 0
}